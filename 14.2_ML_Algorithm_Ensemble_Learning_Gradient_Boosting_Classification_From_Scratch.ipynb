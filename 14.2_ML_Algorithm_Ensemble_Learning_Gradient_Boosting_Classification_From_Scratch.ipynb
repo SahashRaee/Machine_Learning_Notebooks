{
 "cells": [
  {
   "cell_type": "code",
   "execution_count": 13,
   "id": "4fbb6f30-af1d-4dbb-9f82-327a977067b8",
   "metadata": {},
   "outputs": [],
   "source": [
    "import numpy as np\n",
    "import sklearn.datasets as datasets"
   ]
  },
  {
   "cell_type": "code",
   "execution_count": 15,
   "id": "27f57123-4507-451f-ba7a-76230e346438",
   "metadata": {},
   "outputs": [],
   "source": [
    "data = datasets.make_circles(n_samples=100, factor=0.5, noise=0.15, random_state=0)\n",
    "x, y = data[0], data[1]\n",
    "\n",
    "# make it imbalance\n",
    "idx = np.sort(np.append(np.where(y != 0)[0], np.where(y == 0)[0][:-10]))\n",
    "x, y = x[idx], y[idx]"
   ]
  },
  {
   "cell_type": "code",
   "execution_count": 17,
   "id": "561fb5b3-fc3b-4dbb-bbe0-5f3caa66a0eb",
   "metadata": {},
   "outputs": [],
   "source": [
    "class CustomGradientBoostingClassifier:\n",
    "    \n",
    "    def __init__(self, learning_rate, n_estimators, max_depth=1):\n",
    "        self.learning_rate = learning_rate\n",
    "        self.n_estimators = n_estimators\n",
    "        self.max_depth = max_depth\n",
    "        self.trees = []\n",
    "        \n",
    "    def fit(self, X, y):\n",
    "        \n",
    "        F0 = np.log(y.mean()/(1-y.mean()))  # log-odds values\n",
    "        self.F0 = np.full(len(y), F0)  # converting to array with the input length\n",
    "        Fm = self.F0.copy()\n",
    "        \n",
    "        for _ in range(self.n_estimators):\n",
    "            p = np.exp(Fm) / (1 + np.exp(Fm))  # converting back to probabilities\n",
    "            r = y - p  # residuals\n",
    "            tree = DecisionTreeRegressor(max_depth=self.max_depth, random_state=0)\n",
    "            tree.fit(X, r)\n",
    "            ids = tree.apply(x)  # getting the terminal node IDs\n",
    "\n",
    "            # looping through the terminal nodes \n",
    "            for j in np.unique(ids):\n",
    "              fltr = ids == j\n",
    "\n",
    "              # getting gamma using the formula (Σresiduals/Σp(1-p))\n",
    "              num = r[fltr].sum()\n",
    "              den = (p[fltr]*(1-p[fltr])).sum()\n",
    "              gamma = num / den\n",
    "\n",
    "              # updating the prediction\n",
    "              Fm[fltr] += self.learning_rate * gamma\n",
    "\n",
    "              # replacing the prediction value in the tree\n",
    "              tree.tree_.value[j, 0, 0] = gamma\n",
    "\n",
    "            self.trees.append(tree)\n",
    "            \n",
    "    def predict_proba(self, X):\n",
    "        \n",
    "        Fm = self.F0\n",
    "        \n",
    "        for i in range(self.n_estimators):\n",
    "            Fm += self.learning_rate * self.trees[i].predict(X)\n",
    "            \n",
    "        return np.exp(Fm) / (1 + np.exp(Fm))  # converting back to probabilities"
   ]
  },
  {
   "cell_type": "code",
   "execution_count": 21,
   "id": "e05b4484-efba-4601-a630-6ba14e762039",
   "metadata": {},
   "outputs": [
    {
     "name": "stdout",
     "output_type": "stream",
     "text": [
      "Custom GBM Log-Loss:0.461943067988696\n",
      "Scikit-learn GBM Log-Loss:0.461943067988696\n"
     ]
    }
   ],
   "source": [
    "from sklearn.ensemble import GradientBoostingClassifier\n",
    "from sklearn.metrics import log_loss\n",
    "from sklearn.tree import DecisionTreeRegressor\n",
    "\n",
    "custom_gbm = CustomGradientBoostingClassifier(\n",
    "    n_estimators=20, \n",
    "    learning_rate=0.1, \n",
    "    max_depth=1\n",
    ")\n",
    "custom_gbm.fit(x, y)\n",
    "custom_gbm_log_loss = log_loss(y, custom_gbm.predict_proba(x))\n",
    "print(f\"Custom GBM Log-Loss:{custom_gbm_log_loss:.15f}\")\n",
    "\n",
    "sklearn_gbm = GradientBoostingClassifier(\n",
    "    n_estimators=20, \n",
    "    learning_rate=0.1, \n",
    "    max_depth=1\n",
    ")\n",
    "sklearn_gbm.fit(x, y)\n",
    "sklearn_gbm_log_loss = log_loss(y, sklearn_gbm.predict_proba(x))\n",
    "print(f\"Scikit-learn GBM Log-Loss:{sklearn_gbm_log_loss:.15f}\")"
   ]
  },
  {
   "cell_type": "code",
   "execution_count": null,
   "id": "61b7645b-6446-43d1-9756-7a41325dcd00",
   "metadata": {},
   "outputs": [],
   "source": []
  }
 ],
 "metadata": {
  "kernelspec": {
   "display_name": "Python [conda env:base] *",
   "language": "python",
   "name": "conda-base-py"
  },
  "language_info": {
   "codemirror_mode": {
    "name": "ipython",
    "version": 3
   },
   "file_extension": ".py",
   "mimetype": "text/x-python",
   "name": "python",
   "nbconvert_exporter": "python",
   "pygments_lexer": "ipython3",
   "version": "3.12.7"
  }
 },
 "nbformat": 4,
 "nbformat_minor": 5
}
