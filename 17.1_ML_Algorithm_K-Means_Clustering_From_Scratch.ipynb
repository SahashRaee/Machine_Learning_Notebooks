{
 "cells": [
  {
   "cell_type": "code",
   "execution_count": 77,
   "id": "f8270d38-0146-4ffc-ba5a-5697791ad54e",
   "metadata": {},
   "outputs": [],
   "source": [
    "from sklearn.datasets import make_blobs\n",
    "import random\n",
    "import numpy as np"
   ]
  },
  {
   "cell_type": "code",
   "execution_count": 79,
   "id": "7f150642-0d9a-4979-9367-223c7ce91a0a",
   "metadata": {},
   "outputs": [],
   "source": [
    "X, y = make_blobs(n_samples= 100, n_features= 2, centers= [(-5, 5), (5, 5)], cluster_std= [1,1] , random_state = 2)"
   ]
  },
  {
   "cell_type": "code",
   "execution_count": 81,
   "id": "f4ffed7d-a5b3-43e6-bb06-4751893fd864",
   "metadata": {},
   "outputs": [],
   "source": [
    "import matplotlib.pyplot as plt "
   ]
  },
  {
   "cell_type": "code",
   "execution_count": 83,
   "id": "e2effe13-a4de-45c4-ab05-85afe7039610",
   "metadata": {},
   "outputs": [
    {
     "data": {
      "text/plain": [
       "<matplotlib.collections.PathCollection at 0x1414fd6a0>"
      ]
     },
     "execution_count": 83,
     "metadata": {},
     "output_type": "execute_result"
    },
    {
     "data": {
      "image/png": "[encoded data removed]",
      "text/plain": [
       "<Figure size 640x480 with 1 Axes>"
      ]
     },
     "metadata": {},
     "output_type": "display_data"
    }
   ],
   "source": [
    "plt.scatter(X[:, 0], X[:, 1])"
   ]
  },
  {
   "cell_type": "code",
   "execution_count": 109,
   "id": "79970329-b7e0-45b4-ae8f-90ec011dca25",
   "metadata": {},
   "outputs": [],
   "source": [
    "class CustomKMeans : \n",
    "\n",
    "    def __init__(self, n_clusters = 2, max_iter = 100) :\n",
    "        self.n_clusters = n_clusters\n",
    "        self.max_iter = max_iter\n",
    "        self.centroids = None\n",
    "\n",
    "    def fit_predict(self, X) :\n",
    "        random_indices = (random.sample(range(0 , X.shape[0]) , self.n_clusters))\n",
    "        self.centroids = X[random_indices]\n",
    "        for i in range(self.max_iter):\n",
    "            labels = self._assign_clusters(X)\n",
    "\n",
    "            new_centroids = self._compute_centroids(X, labels)\n",
    "        \n",
    "            if np.allclose(self.centroids, new_centroids):\n",
    "                break\n",
    "            self.centroids = new_centroids\n",
    "\n",
    "        return labels\n",
    "\n",
    "    def _assign_clusters(self, X):\n",
    "        distances = np.linalg.norm(X[:, np.newaxis] - self.centroids, axis=2)\n",
    "        return np.argmin(distances, axis=1)\n",
    "    def _compute_centroids(self, X, labels):\n",
    "        centroids = []\n",
    "        for i in range(self.n_clusters):\n",
    "            cluster_points = X[labels == i]\n",
    "            centroid = np.mean(cluster_points, axis=0)\n",
    "            centroids.append(centroid)\n",
    "        return np.array(centroids)\n",
    "        "
   ]
  },
  {
   "cell_type": "code",
   "execution_count": null,
   "id": "f7d48382-70c7-49fb-a8ca-a9c3560ab102",
   "metadata": {},
   "outputs": [],
   "source": []
  }
 ],
 "metadata": {
  "kernelspec": {
   "display_name": "Python [conda env:base] *",
   "language": "python",
   "name": "conda-base-py"
  },
  "language_info": {
   "codemirror_mode": {
    "name": "ipython",
    "version": 3
   },
   "file_extension": ".py",
   "mimetype": "text/x-python",
   "name": "python",
   "nbconvert_exporter": "python",
   "pygments_lexer": "ipython3",
   "version": "3.12.7"
  }
 },
 "nbformat": 4,
 "nbformat_minor": 5
}
